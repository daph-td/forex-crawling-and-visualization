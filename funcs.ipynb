{
 "cells": [
  {
   "cell_type": "code",
   "execution_count": 2,
   "id": "second-tourist",
   "metadata": {},
   "outputs": [],
   "source": [
    "pairs = ['AUD_CAD', 'AUD_JPY', 'AUD_NZD', 'AUD_USD', 'CAD_JPY', 'DAX', \n",
    "'EUR_AUD', 'EUR_CAD', 'EUR_CHF', 'EUR_GBP', 'EUR_JPY', 'EUR_USD', 'GBP_AUD', \n",
    "'GBP_CAD', 'GBP_CHF', 'GBP_JPY', 'GBP_USD', 'NZD_USD', 'USD_CAD', 'USD_CHF', \n",
    "'USD_JPY', 'XAU_USD']\n",
    "\n",
    "pair_pairs = []\n",
    "for i in pairs:\n",
    "    if '_' in i:\n",
    "        new_i = i.replace('_', '/')\n",
    "    else:\n",
    "        new_i = i\n",
    "    pair_pairs.append([new_i, i])"
   ]
  },
  {
   "cell_type": "code",
   "execution_count": 4,
   "id": "prospective-heather",
   "metadata": {},
   "outputs": [
    {
     "name": "stdout",
     "output_type": "stream",
     "text": [
      "22 [['AUD/CAD', 'AUD_CAD'], ['AUD/JPY', 'AUD_JPY'], ['AUD/NZD', 'AUD_NZD'], ['AUD/USD', 'AUD_USD'], ['CAD/JPY', 'CAD_JPY'], ['DAX', 'DAX'], ['EUR/AUD', 'EUR_AUD'], ['EUR/CAD', 'EUR_CAD'], ['EUR/CHF', 'EUR_CHF'], ['EUR/GBP', 'EUR_GBP'], ['EUR/JPY', 'EUR_JPY'], ['EUR/USD', 'EUR_USD'], ['GBP/AUD', 'GBP_AUD'], ['GBP/CAD', 'GBP_CAD'], ['GBP/CHF', 'GBP_CHF'], ['GBP/JPY', 'GBP_JPY'], ['GBP/USD', 'GBP_USD'], ['NZD/USD', 'NZD_USD'], ['USD/CAD', 'USD_CAD'], ['USD/CHF', 'USD_CHF'], ['USD/JPY', 'USD_JPY'], ['XAU/USD', 'XAU_USD']]\n"
     ]
    }
   ],
   "source": [
    "print(len(pair_pairs), pair_pairs)"
   ]
  },
  {
   "cell_type": "code",
   "execution_count": 7,
   "id": "quantitative-decision",
   "metadata": {},
   "outputs": [
    {
     "name": "stdout",
     "output_type": "stream",
     "text": [
      "22 {'AUD/CAD': 'AUD_CAD', 'AUD/JPY': 'AUD_JPY', 'AUD/NZD': 'AUD_NZD', 'AUD/USD': 'AUD_USD', 'CAD/JPY': 'CAD_JPY', 'DAX': 'DAX', 'EUR/AUD': 'EUR_AUD', 'EUR/CAD': 'EUR_CAD', 'EUR/CHF': 'EUR_CHF', 'EUR/GBP': 'EUR_GBP', 'EUR/JPY': 'EUR_JPY', 'EUR/USD': 'EUR_USD', 'GBP/AUD': 'GBP_AUD', 'GBP/CAD': 'GBP_CAD', 'GBP/CHF': 'GBP_CHF', 'GBP/JPY': 'GBP_JPY', 'GBP/USD': 'GBP_USD', 'NZD/USD': 'NZD_USD', 'USD/CAD': 'USD_CAD', 'USD/CHF': 'USD_CHF', 'USD/JPY': 'USD_JPY', 'XAU/USD': 'XAU_USD'}\n"
     ]
    }
   ],
   "source": [
    "data_dict = {}\n",
    "for i in pair_pairs:\n",
    "    data_dict[i[0]] = i[1]\n",
    "\n",
    "print(len(data_dict), data_dict)"
   ]
  },
  {
   "cell_type": "code",
   "execution_count": 8,
   "id": "political-microwave",
   "metadata": {},
   "outputs": [
    {
     "name": "stdout",
     "output_type": "stream",
     "text": [
      "Please select the currency code: 0\n"
     ]
    },
    {
     "data": {
      "text/html": [
       "<div>\n",
       "<style scoped>\n",
       "    .dataframe tbody tr th:only-of-type {\n",
       "        vertical-align: middle;\n",
       "    }\n",
       "\n",
       "    .dataframe tbody tr th {\n",
       "        vertical-align: top;\n",
       "    }\n",
       "\n",
       "    .dataframe thead th {\n",
       "        text-align: right;\n",
       "    }\n",
       "</style>\n",
       "<table border=\"1\" class=\"dataframe\">\n",
       "  <thead>\n",
       "    <tr style=\"text-align: right;\">\n",
       "      <th></th>\n",
       "      <th>0</th>\n",
       "      <th>2021-03-21 21:32:26</th>\n",
       "      <th>1616337146.768723</th>\n",
       "      <th>43.6</th>\n",
       "    </tr>\n",
       "  </thead>\n",
       "  <tbody>\n",
       "    <tr>\n",
       "      <th>5300</th>\n",
       "      <td>0</td>\n",
       "      <td>2021-03-22 05:01:38</td>\n",
       "      <td>1.616364e+09</td>\n",
       "      <td>52.8</td>\n",
       "    </tr>\n",
       "    <tr>\n",
       "      <th>5350</th>\n",
       "      <td>0</td>\n",
       "      <td>2021-03-22 05:04:46</td>\n",
       "      <td>1.616364e+09</td>\n",
       "      <td>52.8</td>\n",
       "    </tr>\n",
       "    <tr>\n",
       "      <th>5400</th>\n",
       "      <td>0</td>\n",
       "      <td>2021-03-22 05:08:42</td>\n",
       "      <td>1.616365e+09</td>\n",
       "      <td>54.2</td>\n",
       "    </tr>\n",
       "    <tr>\n",
       "      <th>5450</th>\n",
       "      <td>0</td>\n",
       "      <td>2021-03-22 05:12:11</td>\n",
       "      <td>1.616365e+09</td>\n",
       "      <td>54.0</td>\n",
       "    </tr>\n",
       "    <tr>\n",
       "      <th>5500</th>\n",
       "      <td>0</td>\n",
       "      <td>2021-03-22 05:16:05</td>\n",
       "      <td>1.616365e+09</td>\n",
       "      <td>54.9</td>\n",
       "    </tr>\n",
       "    <tr>\n",
       "      <th>...</th>\n",
       "      <td>...</td>\n",
       "      <td>...</td>\n",
       "      <td>...</td>\n",
       "      <td>...</td>\n",
       "    </tr>\n",
       "    <tr>\n",
       "      <th>18750</th>\n",
       "      <td>0</td>\n",
       "      <td>2021-03-22 23:08:03</td>\n",
       "      <td>1.616429e+09</td>\n",
       "      <td>34.4</td>\n",
       "    </tr>\n",
       "    <tr>\n",
       "      <th>18800</th>\n",
       "      <td>0</td>\n",
       "      <td>2021-03-22 23:11:31</td>\n",
       "      <td>1.616429e+09</td>\n",
       "      <td>34.5</td>\n",
       "    </tr>\n",
       "    <tr>\n",
       "      <th>18850</th>\n",
       "      <td>0</td>\n",
       "      <td>2021-03-22 23:14:26</td>\n",
       "      <td>1.616430e+09</td>\n",
       "      <td>34.9</td>\n",
       "    </tr>\n",
       "    <tr>\n",
       "      <th>18900</th>\n",
       "      <td>0</td>\n",
       "      <td>2021-03-22 23:17:20</td>\n",
       "      <td>1.616430e+09</td>\n",
       "      <td>35.6</td>\n",
       "    </tr>\n",
       "    <tr>\n",
       "      <th>18950</th>\n",
       "      <td>0</td>\n",
       "      <td>2021-03-22 23:20:06</td>\n",
       "      <td>1.616430e+09</td>\n",
       "      <td>35.4</td>\n",
       "    </tr>\n",
       "  </tbody>\n",
       "</table>\n",
       "<p>274 rows × 4 columns</p>\n",
       "</div>"
      ],
      "text/plain": [
       "       0  2021-03-21 21:32:26  1616337146.768723  43.6\n",
       "5300   0  2021-03-22 05:01:38       1.616364e+09  52.8\n",
       "5350   0  2021-03-22 05:04:46       1.616364e+09  52.8\n",
       "5400   0  2021-03-22 05:08:42       1.616365e+09  54.2\n",
       "5450   0  2021-03-22 05:12:11       1.616365e+09  54.0\n",
       "5500   0  2021-03-22 05:16:05       1.616365e+09  54.9\n",
       "...   ..                  ...                ...   ...\n",
       "18750  0  2021-03-22 23:08:03       1.616429e+09  34.4\n",
       "18800  0  2021-03-22 23:11:31       1.616429e+09  34.5\n",
       "18850  0  2021-03-22 23:14:26       1.616430e+09  34.9\n",
       "18900  0  2021-03-22 23:17:20       1.616430e+09  35.6\n",
       "18950  0  2021-03-22 23:20:06       1.616430e+09  35.4\n",
       "\n",
       "[274 rows x 4 columns]"
      ]
     },
     "execution_count": 8,
     "metadata": {},
     "output_type": "execute_result"
    }
   ],
   "source": [
    "import pandas as pd\n",
    "result = pairs[int(input('Please select the currency code: '))]\n",
    "df_custom = pd.read_csv(f'realTime_{result}.csv')\n",
    "df_custom[5300::50]"
   ]
  },
  {
   "cell_type": "code",
   "execution_count": null,
   "id": "objective-korea",
   "metadata": {},
   "outputs": [],
   "source": []
  }
 ],
 "metadata": {
  "kernelspec": {
   "display_name": "Python 3",
   "language": "python",
   "name": "python3"
  },
  "language_info": {
   "codemirror_mode": {
    "name": "ipython",
    "version": 3
   },
   "file_extension": ".py",
   "mimetype": "text/x-python",
   "name": "python",
   "nbconvert_exporter": "python",
   "pygments_lexer": "ipython3",
   "version": "3.7.6"
  }
 },
 "nbformat": 4,
 "nbformat_minor": 5
}
